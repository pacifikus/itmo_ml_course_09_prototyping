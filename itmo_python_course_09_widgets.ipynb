{
  "nbformat": 4,
  "nbformat_minor": 0,
  "metadata": {
    "colab": {
      "provenance": [],
      "authorship_tag": "ABX9TyPO7G8zoJsbnSHIBx4A+5Rd",
      "include_colab_link": true
    },
    "kernelspec": {
      "name": "python3",
      "display_name": "Python 3"
    },
    "language_info": {
      "name": "python"
    },
    "widgets": {
      "application/vnd.jupyter.widget-state+json": {
        "673d5f32b375462293e5d0c214bccb16": {
          "model_module": "@jupyter-widgets/controls",
          "model_name": "ButtonModel",
          "model_module_version": "1.5.0",
          "state": {
            "_dom_classes": [],
            "_model_module": "@jupyter-widgets/controls",
            "_model_module_version": "1.5.0",
            "_model_name": "ButtonModel",
            "_view_count": null,
            "_view_module": "@jupyter-widgets/controls",
            "_view_module_version": "1.5.0",
            "_view_name": "ButtonView",
            "button_style": "",
            "description": "Train model",
            "disabled": false,
            "icon": "",
            "layout": "IPY_MODEL_3cbea6a8c4a0452397fcf1facb54f08d",
            "style": "IPY_MODEL_b40db7596613410fa668feb62d7b6433",
            "tooltip": ""
          }
        },
        "3cbea6a8c4a0452397fcf1facb54f08d": {
          "model_module": "@jupyter-widgets/base",
          "model_name": "LayoutModel",
          "model_module_version": "1.2.0",
          "state": {
            "_model_module": "@jupyter-widgets/base",
            "_model_module_version": "1.2.0",
            "_model_name": "LayoutModel",
            "_view_count": null,
            "_view_module": "@jupyter-widgets/base",
            "_view_module_version": "1.2.0",
            "_view_name": "LayoutView",
            "align_content": null,
            "align_items": null,
            "align_self": null,
            "border": null,
            "bottom": null,
            "display": null,
            "flex": null,
            "flex_flow": null,
            "grid_area": null,
            "grid_auto_columns": null,
            "grid_auto_flow": null,
            "grid_auto_rows": null,
            "grid_column": null,
            "grid_gap": null,
            "grid_row": null,
            "grid_template_areas": null,
            "grid_template_columns": null,
            "grid_template_rows": null,
            "height": null,
            "justify_content": null,
            "justify_items": null,
            "left": null,
            "margin": null,
            "max_height": null,
            "max_width": null,
            "min_height": null,
            "min_width": null,
            "object_fit": null,
            "object_position": null,
            "order": null,
            "overflow": null,
            "overflow_x": null,
            "overflow_y": null,
            "padding": null,
            "right": null,
            "top": null,
            "visibility": null,
            "width": null
          }
        },
        "b40db7596613410fa668feb62d7b6433": {
          "model_module": "@jupyter-widgets/controls",
          "model_name": "ButtonStyleModel",
          "model_module_version": "1.5.0",
          "state": {
            "_model_module": "@jupyter-widgets/controls",
            "_model_module_version": "1.5.0",
            "_model_name": "ButtonStyleModel",
            "_view_count": null,
            "_view_module": "@jupyter-widgets/base",
            "_view_module_version": "1.2.0",
            "_view_name": "StyleView",
            "button_color": null,
            "font_weight": ""
          }
        },
        "36d1d89b04eb4b98860478bae4f3647f": {
          "model_module": "@jupyter-widgets/output",
          "model_name": "OutputModel",
          "model_module_version": "1.0.0",
          "state": {
            "_dom_classes": [],
            "_model_module": "@jupyter-widgets/output",
            "_model_module_version": "1.0.0",
            "_model_name": "OutputModel",
            "_view_count": null,
            "_view_module": "@jupyter-widgets/output",
            "_view_module_version": "1.0.0",
            "_view_name": "OutputView",
            "layout": "IPY_MODEL_c564af4a2436439a9d054a70681d5965",
            "msg_id": "",
            "outputs": [
              {
                "output_type": "stream",
                "name": "stdout",
                "text": [
                  "Model has been created.\n"
                ]
              }
            ]
          }
        },
        "c564af4a2436439a9d054a70681d5965": {
          "model_module": "@jupyter-widgets/base",
          "model_name": "LayoutModel",
          "model_module_version": "1.2.0",
          "state": {
            "_model_module": "@jupyter-widgets/base",
            "_model_module_version": "1.2.0",
            "_model_name": "LayoutModel",
            "_view_count": null,
            "_view_module": "@jupyter-widgets/base",
            "_view_module_version": "1.2.0",
            "_view_name": "LayoutView",
            "align_content": null,
            "align_items": null,
            "align_self": null,
            "border": null,
            "bottom": null,
            "display": null,
            "flex": null,
            "flex_flow": null,
            "grid_area": null,
            "grid_auto_columns": null,
            "grid_auto_flow": null,
            "grid_auto_rows": null,
            "grid_column": null,
            "grid_gap": null,
            "grid_row": null,
            "grid_template_areas": null,
            "grid_template_columns": null,
            "grid_template_rows": null,
            "height": null,
            "justify_content": null,
            "justify_items": null,
            "left": null,
            "margin": null,
            "max_height": null,
            "max_width": null,
            "min_height": null,
            "min_width": null,
            "object_fit": null,
            "object_position": null,
            "order": null,
            "overflow": null,
            "overflow_x": null,
            "overflow_y": null,
            "padding": null,
            "right": null,
            "top": null,
            "visibility": null,
            "width": null
          }
        }
      }
    }
  },
  "cells": [
    {
      "cell_type": "markdown",
      "metadata": {
        "id": "view-in-github",
        "colab_type": "text"
      },
      "source": [
        "<a href=\"https://colab.research.google.com/github/pacifikus/itmo_ml_course_09_prototyping/blob/master/itmo_python_course_09_widgets.ipynb\" target=\"_parent\"><img src=\"https://colab.research.google.com/assets/colab-badge.svg\" alt=\"Open In Colab\"/></a>"
      ]
    },
    {
      "cell_type": "code",
      "source": [
        "%%capture\n",
        "!pip install ipywidgets\n",
        "!jupyter nbextension enable --py widgetsnbextension"
      ],
      "metadata": {
        "id": "R9eekBCH_QIx"
      },
      "execution_count": null,
      "outputs": []
    },
    {
      "cell_type": "code",
      "execution_count": null,
      "metadata": {
        "id": "7FWXDaTU-XAy"
      },
      "outputs": [],
      "source": [
        "import os\n",
        "\n",
        "import pandas as pd\n",
        "import ipywidgets as widgets\n",
        "\n",
        "from IPython.display import display\n",
        "from src.utils import prepare_data, train_model, read_model"
      ]
    },
    {
      "cell_type": "code",
      "source": [
        "# @title Model train form {display-mode: \"form\"}\n",
        "\n",
        "model_path = 'rf_fitted.pkl'  # @param {type: \"string\"}\n",
        "button = widgets.Button(description=\"Train model\")\n",
        "output = widgets.Output()\n",
        "\n",
        "def on_button_clicked(b):\n",
        "  if not os.path.exists(model_path):\n",
        "    train_data = prepare_data()\n",
        "    train_data.to_csv('data.csv')\n",
        "    train_model(train_data)\n",
        "\n",
        "  with output:\n",
        "    print(\"Model has been created.\")\n",
        "\n",
        "button.on_click(on_button_clicked)\n",
        "display(button, output)"
      ],
      "metadata": {
        "colab": {
          "base_uri": "https://localhost:8080/",
          "height": 66,
          "referenced_widgets": [
            "673d5f32b375462293e5d0c214bccb16",
            "3cbea6a8c4a0452397fcf1facb54f08d",
            "b40db7596613410fa668feb62d7b6433",
            "36d1d89b04eb4b98860478bae4f3647f",
            "c564af4a2436439a9d054a70681d5965"
          ]
        },
        "id": "TsdQOM-f_9Fv",
        "outputId": "1424032c-3fad-4de6-a102-bf2b4bbdb8bb"
      },
      "execution_count": null,
      "outputs": [
        {
          "output_type": "display_data",
          "data": {
            "text/plain": [
              "Button(description='Train model', style=ButtonStyle())"
            ],
            "application/vnd.jupyter.widget-view+json": {
              "version_major": 2,
              "version_minor": 0,
              "model_id": "673d5f32b375462293e5d0c214bccb16"
            }
          },
          "metadata": {}
        },
        {
          "output_type": "display_data",
          "data": {
            "text/plain": [
              "Output()"
            ],
            "application/vnd.jupyter.widget-view+json": {
              "version_major": 2,
              "version_minor": 0,
              "model_id": "36d1d89b04eb4b98860478bae4f3647f"
            }
          },
          "metadata": {}
        }
      ]
    },
    {
      "cell_type": "code",
      "source": [
        "# @title Inference form {display-mode: \"form\"}\n",
        "\n",
        "model_path = 'rf_fitted.pkl'  # @param {type: \"string\"}\n",
        "# @markdown ---\n",
        "\n",
        "age = 20  # @param {type: \"integer\"}\n",
        "child = int(age <= 16)\n",
        "family_size = 2  # @param {type: \"slider\", min: 1, max: 20}\n",
        "pclass = \"1\"  # @param [1, 2, 3]\n",
        "embarked = \"Queenstown\" # @param [\"Cherbourg\", \"Queenstown\", \"Southhampton\"] {allow-input: true}\n",
        "is_male = True # @param {type:\"boolean\"}\n",
        "# @markdown ---\n",
        "\n",
        "model = read_model(model_path)\n",
        "inputDF = pd.DataFrame(\n",
        "    {\n",
        "        \"Age\": age,\n",
        "        \"child\": child,\n",
        "        \"family_size\": family_size,\n",
        "        \"Pclass_1\": pclass == 1,\n",
        "        \"Pclass_2\": pclass == 2,\n",
        "        \"Pclass_3\": pclass == 3,\n",
        "        \"Sex_female\": not is_male,\n",
        "        \"Sex_male\": is_male,\n",
        "        \"Embarked_C\": embarked == 'Cherbourg',\n",
        "        \"Embarked_Q\": embarked == 'Queenstown',\n",
        "        \"Embarked_S\": embarked == 'Southhampton'\n",
        "    },\n",
        "    index=[0],\n",
        ")\n",
        "\n",
        "preds = model.predict_proba(inputDF)[0, 1]\n",
        "preds = round(preds * 100, 1)\n",
        "display(f\"Your Survival Probability based on the information provided is: {preds}%\")"
      ],
      "metadata": {
        "colab": {
          "base_uri": "https://localhost:8080/",
          "height": 35
        },
        "id": "0iXQOi3q_jvM",
        "outputId": "2bca0bf7-a08f-4178-f4c0-5776627c5481"
      },
      "execution_count": null,
      "outputs": [
        {
          "output_type": "display_data",
          "data": {
            "text/plain": [
              "'Your Survival Probability based on the information provided is: 83.2%'"
            ],
            "application/vnd.google.colaboratory.intrinsic+json": {
              "type": "string"
            }
          },
          "metadata": {}
        }
      ]
    },
    {
      "cell_type": "code",
      "source": [],
      "metadata": {
        "id": "-OF4r3ll-d1Z"
      },
      "execution_count": null,
      "outputs": []
    },
    {
      "cell_type": "code",
      "source": [],
      "metadata": {
        "id": "XOeOpm4g-d4R"
      },
      "execution_count": null,
      "outputs": []
    },
    {
      "cell_type": "code",
      "source": [],
      "metadata": {
        "id": "pSQyuSwD-d7A"
      },
      "execution_count": null,
      "outputs": []
    },
    {
      "cell_type": "code",
      "source": [],
      "metadata": {
        "id": "UGpxSV7Q-d9c"
      },
      "execution_count": null,
      "outputs": []
    },
    {
      "cell_type": "code",
      "source": [],
      "metadata": {
        "id": "bL7Dm1QD-d_7"
      },
      "execution_count": null,
      "outputs": []
    },
    {
      "cell_type": "code",
      "source": [],
      "metadata": {
        "id": "zOZCQzBT-eCh"
      },
      "execution_count": null,
      "outputs": []
    }
  ]
}